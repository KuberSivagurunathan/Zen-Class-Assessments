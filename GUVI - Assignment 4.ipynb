{
 "cells": [
  {
   "cell_type": "code",
   "execution_count": 1,
   "id": "9032fb61",
   "metadata": {},
   "outputs": [
    {
     "data": {
      "text/plain": [
       "120"
      ]
     },
     "execution_count": 1,
     "metadata": {},
     "output_type": "execute_result"
    }
   ],
   "source": [
    "def multiply(a):\n",
    "    b=1\n",
    "    for x in a:\n",
    "        b=b*x\n",
    "    return b\n",
    "\n",
    "list1 =[2,3,4,5]\n",
    "multiply(list1)"
   ]
  },
  {
   "cell_type": "code",
   "execution_count": 2,
   "id": "eb60037d",
   "metadata": {},
   "outputs": [
    {
     "name": "stdout",
     "output_type": "stream",
     "text": [
      "rebuK\n"
     ]
    }
   ],
   "source": [
    "\n",
    "def reversestring(word):\n",
    "    result = \"\"\n",
    "    for letter in word:\n",
    "        result = letter + result\n",
    "    print(result)\n",
    "\n",
    "noraml_word = \"Kuber\"\n",
    "reversestring(noraml_word)\n",
    "\n",
    "    \n",
    "\n",
    "\n",
    "    \n",
    "    "
   ]
  },
  {
   "cell_type": "code",
   "execution_count": 3,
   "id": "85f61d1a",
   "metadata": {},
   "outputs": [
    {
     "name": "stdout",
     "output_type": "stream",
     "text": [
      "rebuK\n",
      "rebuK\n"
     ]
    }
   ],
   "source": [
    "normal_word = \"Kuber\"\n",
    "reversestring(normal_word)\n",
    "\n",
    "def reversestring(word):\n",
    "    result = \"\"\n",
    "    i = 0\n",
    "    while i < len(word):\n",
    "        result = word[i] + result\n",
    "        i+=1\n",
    "    print(result)\n",
    "        \n",
    "noraml_word = \"Kuber\"\n",
    "reversestring(noraml_word)"
   ]
  },
  {
   "cell_type": "code",
   "execution_count": 4,
   "id": "387014f3",
   "metadata": {},
   "outputs": [
    {
     "name": "stdout",
     "output_type": "stream",
     "text": [
      "2\n",
      "2\n",
      "4\n",
      "0\n"
     ]
    }
   ],
   "source": [
    "def addsub(a,b):\n",
    "    \n",
    "    add = a+b\n",
    "    print(add)\n",
    "    sub =a-b\n",
    "    print(sub)\n",
    "    \n",
    "first_num = int(input())\n",
    "second_num = int(input())\n",
    "addsub(first_num,second_num)\n"
   ]
  },
  {
   "cell_type": "code",
   "execution_count": 5,
   "id": "dd31ce95",
   "metadata": {},
   "outputs": [
    {
     "name": "stdout",
     "output_type": "stream",
     "text": [
      "45\n",
      "The number is not divisible by 12\n"
     ]
    }
   ],
   "source": [
    "def divtwelve(num):\n",
    "    if num%12 ==0:\n",
    "        print(\"The number is divisible by 12\")\n",
    "    else:\n",
    "        print(\"The number is not divisible by 12\")\n",
    "        \n",
    "    \n",
    "    \n",
    "num = int(input())\n",
    "divtwelve(num)\n",
    "\n"
   ]
  },
  {
   "cell_type": "code",
   "execution_count": 6,
   "id": "27ae6afb",
   "metadata": {},
   "outputs": [
    {
     "name": "stdout",
     "output_type": "stream",
     "text": [
      "89\n",
      "The number has 12 weeks and 5 days\n"
     ]
    }
   ],
   "source": [
    "def daysweek(num):\n",
    "    a = num//7 \n",
    "    b = num%7 \n",
    "    print(\"The number has\",a,\"weeks and\",b,\"days\")\n",
    "    \n",
    "    \n",
    "    \n",
    "num = int(input())\n",
    "daysweek(num)"
   ]
  },
  {
   "cell_type": "code",
   "execution_count": 7,
   "id": "7541b6c5",
   "metadata": {},
   "outputs": [
    {
     "name": "stdout",
     "output_type": "stream",
     "text": [
      "120\n"
     ]
    }
   ],
   "source": [
    "def fact(num):\n",
    "    result=1\n",
    "    for i in range(1,num+1):\n",
    "        result = i*result \n",
    "    print(result)\n",
    "    \n",
    "    \n",
    "num = 5    \n",
    "fact(num)"
   ]
  },
  {
   "cell_type": "code",
   "execution_count": 8,
   "id": "f25bcc57",
   "metadata": {},
   "outputs": [
    {
     "name": "stdout",
     "output_type": "stream",
     "text": [
      "[1, 2, 3, 4, 5, 34, 7, 6, 654]\n"
     ]
    }
   ],
   "source": [
    "def uniquelist(list1):\n",
    "    result = set(list1)\n",
    "    print(list(result))\n",
    "\n",
    "list1 = [1,2,3,3,3,3,4,5,4,2,4,2,4,4,2,4,5,4,34,654,5,7,6,5,4,3]\n",
    "uniquelist(list1)"
   ]
  },
  {
   "cell_type": "code",
   "execution_count": 9,
   "id": "82d75162",
   "metadata": {},
   "outputs": [
    {
     "name": "stdout",
     "output_type": "stream",
     "text": [
      "50000\n",
      "2\n",
      "3\n",
      "3000.0\n"
     ]
    }
   ],
   "source": [
    "def simpleinterest(p,n,r):\n",
    "    \n",
    "    si = (p*n*r)/100\n",
    "    print(si)\n",
    "    \n",
    "p = float(input())\n",
    "n = float(input())\n",
    "r = float(input())\n",
    "simpleinterest(p,n,r)\n"
   ]
  },
  {
   "cell_type": "code",
   "execution_count": 10,
   "id": "74fb66a9",
   "metadata": {},
   "outputs": [
    {
     "name": "stdout",
     "output_type": "stream",
     "text": [
      "kuber \n",
      " Hello, Good Morning!\n"
     ]
    }
   ],
   "source": [
    "def printmessage(name,message):\n",
    "    print(name,'\\n',message)\n",
    "printmessage(name = 'kuber',message = 'Hello, Good Morning!')"
   ]
  },
  {
   "cell_type": "code",
   "execution_count": 11,
   "id": "e42bb07a",
   "metadata": {},
   "outputs": [
    {
     "name": "stdout",
     "output_type": "stream",
     "text": [
      "kuber \n",
      " 30\n"
     ]
    }
   ],
   "source": [
    "def printmessage(name,age = 30):\n",
    "    print(name,'\\n',age)\n",
    "printmessage(name = 'kuber')"
   ]
  },
  {
   "cell_type": "code",
   "execution_count": 23,
   "id": "b9b4125c",
   "metadata": {},
   "outputs": [
    {
     "name": "stdout",
     "output_type": "stream",
     "text": [
      "5\n"
     ]
    },
    {
     "data": {
      "text/plain": [
       "'odd'"
      ]
     },
     "execution_count": 23,
     "metadata": {},
     "output_type": "execute_result"
    }
   ],
   "source": [
    "n = int(input())\n",
    "a = lambda x:\"even\" if x%2==0 else \"odd\"\n",
    "a(n)\n"
   ]
  },
  {
   "cell_type": "code",
   "execution_count": 24,
   "id": "6fefcfc9",
   "metadata": {},
   "outputs": [
    {
     "name": "stdout",
     "output_type": "stream",
     "text": [
      "4\n"
     ]
    },
    {
     "data": {
      "text/plain": [
       "16"
      ]
     },
     "execution_count": 24,
     "metadata": {},
     "output_type": "execute_result"
    }
   ],
   "source": [
    "n = int(input())\n",
    "a = lambda x:x*x\n",
    "a(n)"
   ]
  },
  {
   "cell_type": "code",
   "execution_count": 25,
   "id": "0ff3ea51",
   "metadata": {},
   "outputs": [
    {
     "name": "stdout",
     "output_type": "stream",
     "text": [
      "34\n"
     ]
    },
    {
     "data": {
      "text/plain": [
       "False"
      ]
     },
     "execution_count": 25,
     "metadata": {},
     "output_type": "execute_result"
    }
   ],
   "source": [
    "n = int(input())\n",
    "a =lambda x: x<10\n",
    "a(n)"
   ]
  },
  {
   "cell_type": "code",
   "execution_count": 26,
   "id": "85128ce7",
   "metadata": {},
   "outputs": [
    {
     "name": "stdout",
     "output_type": "stream",
     "text": [
      "34\n",
      "39\n"
     ]
    }
   ],
   "source": [
    "n = int(input())\n",
    "a = lambda x:x+5\n",
    "print(a(n))\n"
   ]
  },
  {
   "cell_type": "code",
   "execution_count": null,
   "id": "b2493610",
   "metadata": {},
   "outputs": [],
   "source": []
  },
  {
   "cell_type": "code",
   "execution_count": null,
   "id": "dcc09d7a",
   "metadata": {},
   "outputs": [],
   "source": []
  },
  {
   "cell_type": "code",
   "execution_count": 56,
   "id": "97dee9f5",
   "metadata": {},
   "outputs": [
    {
     "data": {
      "text/plain": [
       "[53, 78, 105]"
      ]
     },
     "execution_count": 56,
     "metadata": {},
     "output_type": "execute_result"
    }
   ],
   "source": [
    "lis1 = [12, 24, 36]\n",
    "lis2 = [41, 54, 69]\n",
    "\n",
    "\n",
    "list(map(lambda a,b:a+b,lis1,lis2))\n",
    "\n"
   ]
  },
  {
   "cell_type": "code",
   "execution_count": 13,
   "id": "00e61d72",
   "metadata": {},
   "outputs": [
    {
     "data": {
      "text/plain": [
       "[1, 4, 9, 16, 25, 36, 49]"
      ]
     },
     "execution_count": 13,
     "metadata": {},
     "output_type": "execute_result"
    }
   ],
   "source": [
    "arr = [1, 2, 3, 4, 5, 6, 7]\n",
    "list(map(lambda a:a*a,arr))\n"
   ]
  },
  {
   "cell_type": "code",
   "execution_count": 16,
   "id": "1499e064",
   "metadata": {},
   "outputs": [
    {
     "data": {
      "text/plain": [
       "['odd', 'even', 'odd', 'even', 'odd', 'even', 'odd']"
      ]
     },
     "execution_count": 16,
     "metadata": {},
     "output_type": "execute_result"
    }
   ],
   "source": [
    "arr1 = [1, 2, 3, 4, 5, 6, 7]\n",
    "list(map(lambda a: \"even\" if a%2==0 else \"odd\",arr1))"
   ]
  },
  {
   "cell_type": "code",
   "execution_count": 17,
   "id": "dcd1f087",
   "metadata": {},
   "outputs": [
    {
     "data": {
      "text/plain": [
       "[1, 1, 1, 2, 62, 0, 3]"
      ]
     },
     "execution_count": 17,
     "metadata": {},
     "output_type": "execute_result"
    }
   ],
   "source": [
    "arr2 = [11, 12, 13, 14, 435, 6, 27]\n",
    "list(map(lambda a: a//7,arr2))\n"
   ]
  },
  {
   "cell_type": "code",
   "execution_count": 54,
   "id": "bfc97491",
   "metadata": {},
   "outputs": [
    {
     "data": {
      "text/plain": [
       "[3, 43, 455, 43, 543]"
      ]
     },
     "execution_count": 54,
     "metadata": {},
     "output_type": "execute_result"
    }
   ],
   "source": [
    "arr3 = [3,12, 24, 36,43,654,65432,2,654,455,43,543] \n",
    "list(filter(lambda a: a%2!=0,arr3))\n"
   ]
  },
  {
   "cell_type": "code",
   "execution_count": 34,
   "id": "64377493",
   "metadata": {},
   "outputs": [
    {
     "data": {
      "text/plain": [
       "[2, 4, 6]"
      ]
     },
     "execution_count": 34,
     "metadata": {},
     "output_type": "execute_result"
    }
   ],
   "source": [
    "arr4 = [1, 2, 3, 4, 5, 6]\n",
    "list(filter(lambda a: a%2==0,arr4))\n"
   ]
  },
  {
   "cell_type": "code",
   "execution_count": 38,
   "id": "62f769c7",
   "metadata": {},
   "outputs": [
    {
     "name": "stdout",
     "output_type": "stream",
     "text": [
      "[2, 6, 4, 6]\n"
     ]
    }
   ],
   "source": [
    "def evennum(arr5):\n",
    "    result = []\n",
    "    for a in arr5:\n",
    "        if a%2==0:\n",
    "            result.append(a)\n",
    "    print(result)\n",
    "            \n",
    "\n",
    "\n",
    "arr5 = [2,3,5,3,6,3,7,4,6,7]\n",
    "evennum(arr5)\n"
   ]
  },
  {
   "cell_type": "code",
   "execution_count": 40,
   "id": "6ede55ac",
   "metadata": {},
   "outputs": [
    {
     "name": "stdout",
     "output_type": "stream",
     "text": [
      "[1, 31, 15, 7]\n"
     ]
    }
   ],
   "source": [
    "def evennum(arr5):\n",
    "    result = []\n",
    "    for a in arr5:\n",
    "        if a%2!=0:\n",
    "            result.append(a)\n",
    "    print(result)\n",
    "            \n",
    "\n",
    "\n",
    "arr5 = [1, 12, 31, 4, 15, 6, 7]\n",
    "evennum(arr5)\n"
   ]
  },
  {
   "cell_type": "code",
   "execution_count": 61,
   "id": "a20c77da",
   "metadata": {},
   "outputs": [
    {
     "data": {
      "text/plain": [
       "24"
      ]
     },
     "execution_count": 61,
     "metadata": {},
     "output_type": "execute_result"
    }
   ],
   "source": [
    "\n",
    "arr6 = [1, 2, 3, 4]\n",
    "reduce(lambda x,y: x*y, arr6)\n"
   ]
  },
  {
   "cell_type": "code",
   "execution_count": 62,
   "id": "6f1e138d",
   "metadata": {},
   "outputs": [
    {
     "data": {
      "text/plain": [
       "100"
      ]
     },
     "execution_count": 62,
     "metadata": {},
     "output_type": "execute_result"
    }
   ],
   "source": [
    "arr7 = [ 11 , 13, 15, 16, 2,43 ]\n",
    "reduce(lambda a,b:a+b,arr7)"
   ]
  },
  {
   "cell_type": "code",
   "execution_count": 68,
   "id": "15785494",
   "metadata": {},
   "outputs": [
    {
     "data": {
      "text/plain": [
       "4567"
      ]
     },
     "execution_count": 68,
     "metadata": {},
     "output_type": "execute_result"
    }
   ],
   "source": [
    "arr8 = [543,7,6,4567,7,78,6,6,78,765,678]\n",
    "reduce(lambda x,y: x if x>y else y,arr8)"
   ]
  },
  {
   "cell_type": "code",
   "execution_count": 71,
   "id": "c5aa7095",
   "metadata": {},
   "outputs": [
    {
     "data": {
      "text/plain": [
       "6"
      ]
     },
     "execution_count": 71,
     "metadata": {},
     "output_type": "execute_result"
    }
   ],
   "source": [
    "arr8 = [543,7,6,4567,7,78,6,6,78,765,678]\n",
    "reduce(lambda x,y: x if x<y else y,arr8)"
   ]
  },
  {
   "cell_type": "code",
   "execution_count": null,
   "id": "11ea8ec5",
   "metadata": {},
   "outputs": [],
   "source": []
  }
 ],
 "metadata": {
  "kernelspec": {
   "display_name": "Python 3 (ipykernel)",
   "language": "python",
   "name": "python3"
  },
  "language_info": {
   "codemirror_mode": {
    "name": "ipython",
    "version": 3
   },
   "file_extension": ".py",
   "mimetype": "text/x-python",
   "name": "python",
   "nbconvert_exporter": "python",
   "pygments_lexer": "ipython3",
   "version": "3.11.4"
  }
 },
 "nbformat": 4,
 "nbformat_minor": 5
}
