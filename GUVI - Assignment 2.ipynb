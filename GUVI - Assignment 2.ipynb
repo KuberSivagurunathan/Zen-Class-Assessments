{
 "cells": [
  {
   "cell_type": "code",
   "execution_count": 138,
   "id": "d4824e8a",
   "metadata": {},
   "outputs": [
    {
     "data": {
      "text/plain": [
       "['hello', 'hello', 'GUVI', 'GUVI', 'GEEK', 'GEEK']"
      ]
     },
     "execution_count": 138,
     "metadata": {},
     "output_type": "execute_result"
    }
   ],
   "source": [
    "list1 = ['hello','GUVI','GEEK']\n",
    "rep = [i for i in list1 for x in range(0,2)]\n",
    "rep\n"
   ]
  },
  {
   "cell_type": "code",
   "execution_count": 87,
   "id": "99ac1765",
   "metadata": {},
   "outputs": [
    {
     "data": {
      "text/plain": [
       "['hello', 'GUVI', 'GEEK', 'hello', 'GUVI', 'GEEK']"
      ]
     },
     "execution_count": 87,
     "metadata": {},
     "output_type": "execute_result"
    }
   ],
   "source": [
    "conc = list1+list1\n",
    "conc"
   ]
  },
  {
   "cell_type": "code",
   "execution_count": 88,
   "id": "5934e58e",
   "metadata": {},
   "outputs": [
    {
     "data": {
      "text/plain": [
       "True"
      ]
     },
     "execution_count": 88,
     "metadata": {},
     "output_type": "execute_result"
    }
   ],
   "source": [
    "mem = 'GUVI' in list1\n",
    "mem"
   ]
  },
  {
   "cell_type": "code",
   "execution_count": 89,
   "id": "cf1c19bb",
   "metadata": {},
   "outputs": [
    {
     "data": {
      "text/plain": [
       "3"
      ]
     },
     "execution_count": 89,
     "metadata": {},
     "output_type": "execute_result"
    }
   ],
   "source": [
    "length = len(list1)\n",
    "length"
   ]
  },
  {
   "cell_type": "code",
   "execution_count": 90,
   "id": "b105b54e",
   "metadata": {},
   "outputs": [
    {
     "name": "stdout",
     "output_type": "stream",
     "text": [
      "hello\n",
      "GUVI\n",
      "GEEK\n"
     ]
    }
   ],
   "source": [
    "list1=iter(list1)\n",
    "print(next(list1))\n",
    "print(next(list1))\n",
    "print(next(list1))"
   ]
  },
  {
   "cell_type": "code",
   "execution_count": 91,
   "id": "ec659b30",
   "metadata": {},
   "outputs": [
    {
     "name": "stdout",
     "output_type": "stream",
     "text": [
      "2700\n",
      "2\n"
     ]
    }
   ],
   "source": [
    "list1 = [15, 300, 2700, 821]\n",
    "list2 = [12, 2]\n",
    "list3 = [34, 567, 78]\n",
    "\n",
    "list = list1+list2+list3\n",
    "print(max(list))\n",
    "print(min(list))"
   ]
  },
  {
   "cell_type": "code",
   "execution_count": 97,
   "id": "348042a6",
   "metadata": {},
   "outputs": [
    {
     "data": {
      "text/plain": [
       "['k', 'u', 'b', 'e', 'r']"
      ]
     },
     "execution_count": 97,
     "metadata": {},
     "output_type": "execute_result"
    }
   ],
   "source": [
    "list = ['k','u','b','e','r']\n",
    "list"
   ]
  },
  {
   "cell_type": "code",
   "execution_count": 98,
   "id": "6b363cde",
   "metadata": {},
   "outputs": [
    {
     "data": {
      "text/plain": [
       "['k', 'u', 'b', 'e', 'r', 's']"
      ]
     },
     "execution_count": 98,
     "metadata": {},
     "output_type": "execute_result"
    }
   ],
   "source": [
    "list = ['k','u','b','e','r']\n",
    "\n",
    "list.append('s')\n",
    "list\n"
   ]
  },
  {
   "cell_type": "code",
   "execution_count": 99,
   "id": "70b0c2ba",
   "metadata": {},
   "outputs": [
    {
     "data": {
      "text/plain": [
       "[]"
      ]
     },
     "execution_count": 99,
     "metadata": {},
     "output_type": "execute_result"
    }
   ],
   "source": [
    "list.clear()\n",
    "list"
   ]
  },
  {
   "cell_type": "code",
   "execution_count": 100,
   "id": "8c46d829",
   "metadata": {},
   "outputs": [
    {
     "name": "stdout",
     "output_type": "stream",
     "text": [
      "[]\n",
      "[]\n"
     ]
    }
   ],
   "source": [
    "list2 = list.copy() \n",
    "print(list)\n",
    "print(list2)"
   ]
  },
  {
   "cell_type": "code",
   "execution_count": 104,
   "id": "a252721f",
   "metadata": {},
   "outputs": [
    {
     "data": {
      "text/plain": [
       "['k', 'u', 'b', 'e', 'r', 'k']"
      ]
     },
     "execution_count": 104,
     "metadata": {},
     "output_type": "execute_result"
    }
   ],
   "source": [
    "list = ['k','u','b','e','r']\n",
    "list.count('k')\n",
    "list.extend('k')\n",
    "list"
   ]
  },
  {
   "cell_type": "code",
   "execution_count": 107,
   "id": "30244def",
   "metadata": {},
   "outputs": [
    {
     "data": {
      "text/plain": [
       "4"
      ]
     },
     "execution_count": 107,
     "metadata": {},
     "output_type": "execute_result"
    }
   ],
   "source": [
    "list.index('r')"
   ]
  },
  {
   "cell_type": "code",
   "execution_count": 112,
   "id": "b14d01c7",
   "metadata": {},
   "outputs": [
    {
     "data": {
      "text/plain": [
       "['k', 'u', 'b', 'p', 'p', 'p', 'e', 'r', 'k']"
      ]
     },
     "execution_count": 112,
     "metadata": {},
     "output_type": "execute_result"
    }
   ],
   "source": [
    "list.insert(3,'p')\n",
    "list"
   ]
  },
  {
   "cell_type": "code",
   "execution_count": 118,
   "id": "fcfbb064",
   "metadata": {},
   "outputs": [
    {
     "data": {
      "text/plain": [
       "['k', 'u', 'b']"
      ]
     },
     "execution_count": 118,
     "metadata": {},
     "output_type": "execute_result"
    }
   ],
   "source": [
    "list.pop()\n",
    "list"
   ]
  },
  {
   "cell_type": "code",
   "execution_count": 120,
   "id": "d9a02e73",
   "metadata": {},
   "outputs": [
    {
     "data": {
      "text/plain": [
       "['k', 'u', 'b', 'r']"
      ]
     },
     "execution_count": 120,
     "metadata": {},
     "output_type": "execute_result"
    }
   ],
   "source": [
    "list = ['k','u','b','e','r']\n",
    "list.remove('e')    \n",
    "list"
   ]
  },
  {
   "cell_type": "code",
   "execution_count": 122,
   "id": "3342b4ee",
   "metadata": {},
   "outputs": [
    {
     "data": {
      "text/plain": [
       "['b', 'e', 'k', 'r', 'u']"
      ]
     },
     "execution_count": 122,
     "metadata": {},
     "output_type": "execute_result"
    }
   ],
   "source": [
    "list = ['k','u','b','e','r']\n",
    "list.reverse() \n",
    "list\n",
    "list.sort()\n",
    "list"
   ]
  },
  {
   "cell_type": "code",
   "execution_count": 154,
   "id": "3dd35f5d",
   "metadata": {},
   "outputs": [
    {
     "data": {
      "text/plain": [
       "(1, 2, 3, 4, 1, 2, 3, 4)"
      ]
     },
     "execution_count": 154,
     "metadata": {},
     "output_type": "execute_result"
    }
   ],
   "source": [
    "Tuple1 = (1,2,3,4)\n",
    "Tuple2 = (1,2,3,4)\n",
    "\n",
    "rep = Tuple1*2\n",
    "rep"
   ]
  },
  {
   "cell_type": "code",
   "execution_count": 155,
   "id": "fc2d666f",
   "metadata": {},
   "outputs": [
    {
     "data": {
      "text/plain": [
       "(1, 2, 3, 4, 5, 6, 7, 8)"
      ]
     },
     "execution_count": 155,
     "metadata": {},
     "output_type": "execute_result"
    }
   ],
   "source": [
    "Tuple1 = (1,2,3,4)\n",
    "Tuple2 = (5,6,7,8)\n",
    "\n",
    "con = Tuple1+Tuple2\n",
    "con"
   ]
  },
  {
   "cell_type": "code",
   "execution_count": 157,
   "id": "a71ca997",
   "metadata": {},
   "outputs": [
    {
     "name": "stdout",
     "output_type": "stream",
     "text": [
      "False\n"
     ]
    }
   ],
   "source": [
    "Tuple1 = (1,2,3,4)\n",
    "mem = print(0 in Tuple1)"
   ]
  },
  {
   "cell_type": "code",
   "execution_count": 158,
   "id": "4d2d5b22",
   "metadata": {},
   "outputs": [
    {
     "name": "stdout",
     "output_type": "stream",
     "text": [
      "4\n"
     ]
    }
   ],
   "source": [
    "Tuple1 = (1,2,3,4)\n",
    "print(len(Tuple1))"
   ]
  },
  {
   "cell_type": "code",
   "execution_count": 159,
   "id": "2298ff89",
   "metadata": {},
   "outputs": [
    {
     "name": "stdout",
     "output_type": "stream",
     "text": [
      "1\n",
      "2\n",
      "3\n",
      "4\n"
     ]
    }
   ],
   "source": [
    "Tuple1 = (1,2,3,4)\n",
    "for i in Tuple1:\n",
    "    print(i)"
   ]
  },
  {
   "cell_type": "code",
   "execution_count": 165,
   "id": "3660dfd5",
   "metadata": {},
   "outputs": [
    {
     "name": "stdout",
     "output_type": "stream",
     "text": [
      "8\n",
      "1\n"
     ]
    },
    {
     "ename": "TypeError",
     "evalue": "'tuple' object is not callable",
     "output_type": "error",
     "traceback": [
      "\u001b[1;31m---------------------------------------------------------------------------\u001b[0m",
      "\u001b[1;31mTypeError\u001b[0m                                 Traceback (most recent call last)",
      "Cell \u001b[1;32mIn[165], line 10\u001b[0m\n\u001b[0;32m      8\u001b[0m \u001b[38;5;28mprint\u001b[39m(\u001b[38;5;28mmin\u001b[39m(con))   \n\u001b[0;32m      9\u001b[0m Tuple \u001b[38;5;241m=\u001b[39m \u001b[38;5;124m'\u001b[39m\u001b[38;5;124mqwerty\u001b[39m\u001b[38;5;124m'\u001b[39m\n\u001b[1;32m---> 10\u001b[0m \u001b[38;5;28mtuple\u001b[39m(Tuple)\n",
      "\u001b[1;31mTypeError\u001b[0m: 'tuple' object is not callable"
     ]
    }
   ],
   "source": [
    "Tuple1 = (1,2,3,4)\n",
    "Tuple2 = (5,6,7,8)\n",
    "\n",
    "con = Tuple1+Tuple2\n",
    "con\n",
    "\n",
    "print(max(con)) \n",
    "print(min(con)) \n",
    "\n",
    "Tuple = 'qwerty'\n",
    "tuple(Tuple)\n",
    "\n",
    "\n"
   ]
  },
  {
   "cell_type": "code",
   "execution_count": 172,
   "id": "8d25a9a4",
   "metadata": {},
   "outputs": [
    {
     "ename": "SyntaxError",
     "evalue": "invalid syntax. Perhaps you forgot a comma? (3220951165.py, line 7)",
     "output_type": "error",
     "traceback": [
      "\u001b[1;36m  Cell \u001b[1;32mIn[172], line 7\u001b[1;36m\u001b[0m\n\u001b[1;33m    SymmetricDifference = print(Set1 ˆ Set2)\u001b[0m\n\u001b[1;37m                                ^\u001b[0m\n\u001b[1;31mSyntaxError\u001b[0m\u001b[1;31m:\u001b[0m invalid syntax. Perhaps you forgot a comma?\n"
     ]
    }
   ],
   "source": [
    "Set1 = {1,4,2,4,5,6,3,5,4,6,77,8,7,7,876}\n",
    "Set2 = {3,432,5,6,4,6,7,6,5,6,54,567,5}\n",
    "\n",
    "Union = print(Set1|Set2)\n",
    "Intersection = print(Set1&Set2)\n",
    "Difference = print(Set1-Set2)\n",
    "SymmetricDifference = print(Set1 ˆ Set2)"
   ]
  },
  {
   "cell_type": "code",
   "execution_count": 178,
   "id": "bab1f1a6",
   "metadata": {},
   "outputs": [
    {
     "data": {
      "text/plain": [
       "2"
      ]
     },
     "execution_count": 178,
     "metadata": {},
     "output_type": "execute_result"
    }
   ],
   "source": [
    "dict = {'Name': 'Student', 'Age': 27}\n",
    "len(dict) "
   ]
  },
  {
   "cell_type": "code",
   "execution_count": 179,
   "id": "4a3112db",
   "metadata": {},
   "outputs": [
    {
     "data": {
      "text/plain": [
       "\"{'Name': 'Student', 'Age': 27}\""
      ]
     },
     "execution_count": 179,
     "metadata": {},
     "output_type": "execute_result"
    }
   ],
   "source": [
    "str(dict)"
   ]
  },
  {
   "cell_type": "code",
   "execution_count": 180,
   "id": "601c7c0e",
   "metadata": {},
   "outputs": [
    {
     "data": {
      "text/plain": [
       "dict"
      ]
     },
     "execution_count": 180,
     "metadata": {},
     "output_type": "execute_result"
    }
   ],
   "source": [
    "type(dict)"
   ]
  },
  {
   "cell_type": "code",
   "execution_count": 181,
   "id": "a85db7a0",
   "metadata": {},
   "outputs": [
    {
     "data": {
      "text/plain": [
       "{}"
      ]
     },
     "execution_count": 181,
     "metadata": {},
     "output_type": "execute_result"
    }
   ],
   "source": [
    "dict = {0:\" Data\",1: \"GUVI\", 2: \"GEEK\",3:\"Python\",4:\"Happy\"}\n",
    "dict.clear()\n",
    "dict"
   ]
  },
  {
   "cell_type": "code",
   "execution_count": 183,
   "id": "dc78bd00",
   "metadata": {},
   "outputs": [
    {
     "name": "stdout",
     "output_type": "stream",
     "text": [
      "{0: ' Data', 1: 'GUVI', 2: 'GEEK', 3: 'Python', 4: 'Happy'}\n",
      "{0: ' Data', 1: 'GUVI', 2: 'GEEK', 3: 'Python', 4: 'Happy'}\n"
     ]
    }
   ],
   "source": [
    "dict = {0:\" Data\",1: \"GUVI\", 2: \"GEEK\",3:\"Python\",4:\"Happy\"}\n",
    "dict1 = dict.copy()\n",
    "print(dict)\n",
    "print(dict1)"
   ]
  },
  {
   "cell_type": "code",
   "execution_count": 191,
   "id": "18f81025",
   "metadata": {},
   "outputs": [
    {
     "name": "stdout",
     "output_type": "stream",
     "text": [
      "{0: 100, 1: 100, 2: 100, 3: 100, 4: 100, 5: 100, 6: 100}\n",
      "{0: ' Kuber', 1: 'Jegatha', 2: 'Prijith', 3: 'Nivin', 4: 'Amma', 5: 'Appa', 6: 'Akka'}\n",
      "{0: ' Data', 1: 'GUVI', 2: 'GEEK', 3: 'Python', 4: 'Happy'}\n"
     ]
    }
   ],
   "source": [
    "dict1 = {0:\" Kuber\",1: \"Jegatha\", 2: \"Prijith\",3:\"Nivin\",4:\"Amma\",5:\"Appa\",6:\"Akka\"}\n",
    "dict = {0:\" Data\",1: \"GUVI\", 2: \"GEEK\",3:\"Python\",4:\"Happy\"}\n",
    "print(dict.fromkeys(dict1,100))\n",
    "print(dict1)\n",
    "print(dict)"
   ]
  },
  {
   "cell_type": "code",
   "execution_count": 196,
   "id": "b106c983",
   "metadata": {},
   "outputs": [
    {
     "name": "stdout",
     "output_type": "stream",
     "text": [
      " Data\n"
     ]
    }
   ],
   "source": [
    "dict = {0:\" Data\",1: \"GUVI\", 2: \"GEEK\",3:\"Python\",4:\"Happy\"}\n",
    "print(dict.get(0))\n"
   ]
  },
  {
   "cell_type": "code",
   "execution_count": 197,
   "id": "30f3a23e",
   "metadata": {},
   "outputs": [
    {
     "data": {
      "text/plain": [
       "dict_items([(0, ' Data'), (1, 'GUVI'), (2, 'GEEK'), (3, 'Python'), (4, 'Happy')])"
      ]
     },
     "execution_count": 197,
     "metadata": {},
     "output_type": "execute_result"
    }
   ],
   "source": [
    "dict = {0:\" Data\",1: \"GUVI\", 2: \"GEEK\",3:\"Python\",4:\"Happy\"}\n",
    "dict.items()"
   ]
  },
  {
   "cell_type": "code",
   "execution_count": 199,
   "id": "e64879d8",
   "metadata": {},
   "outputs": [
    {
     "data": {
      "text/plain": [
       "dict_keys([0, 1, 2, 3, 4])"
      ]
     },
     "execution_count": 199,
     "metadata": {},
     "output_type": "execute_result"
    }
   ],
   "source": [
    "dict = {0:\" Data\",1: \"GUVI\", 2: \"GEEK\",3:\"Python\",4:\"Happy\"}\n",
    "dict.keys()"
   ]
  },
  {
   "cell_type": "code",
   "execution_count": 201,
   "id": "15949aea",
   "metadata": {},
   "outputs": [
    {
     "data": {
      "text/plain": [
       "dict_values([' Data', 'GUVI', 'GEEK', 'Python', 'Happy'])"
      ]
     },
     "execution_count": 201,
     "metadata": {},
     "output_type": "execute_result"
    }
   ],
   "source": [
    "dict = {0:\" Data\",1: \"GUVI\", 2: \"GEEK\",3:\"Python\",4:\"Happy\"}\n",
    "dict.values()"
   ]
  },
  {
   "cell_type": "code",
   "execution_count": 208,
   "id": "721ff5ef",
   "metadata": {},
   "outputs": [
    {
     "name": "stdout",
     "output_type": "stream",
     "text": [
      "dict_items([(0, ' Data'), (1, 'GUVI'), (2, 'GEEK'), (3, 'Python'), (4, 'Happy')])\n",
      "dict_keys([0, 1, 2, 3, 4])\n",
      "dict_values([' Data', 'GUVI', 'GEEK', 'Python', 'Happy'])\n",
      "None\n",
      "{0: ' Data', 1: 'GUVI', 2: 'GEEK', 3: 'Python', 4: 'Happy', 'AIML': None}\n"
     ]
    }
   ],
   "source": [
    "dict = {0:\" Data\",1: \"GUVI\", 2: \"GEEK\",3:\"Python\",4:\"Happy\"}\n",
    "print(dict.items())\n",
    "print(dict.keys())\n",
    "print(dict.values())\n",
    "print(dict.setdefault(\"AIML\"))\n",
    "print(dict)"
   ]
  },
  {
   "cell_type": "code",
   "execution_count": 211,
   "id": "3fd34520",
   "metadata": {},
   "outputs": [
    {
     "name": "stdout",
     "output_type": "stream",
     "text": [
      "{0: 'kuber', 1: 'AIML', 2: 'GEEK', 3: 'Python', 4: 'Happy'}\n"
     ]
    }
   ],
   "source": [
    "dict = {0:\" Data\",1: \"GUVI\", 2: \"GEEK\",3:\"Python\",4:\"Happy\"}\n",
    "dict1 = {0:\"kuber\", 1:\"AIML\"}\n",
    "dict.update(dict1) \n",
    "print(dict)"
   ]
  },
  {
   "cell_type": "code",
   "execution_count": 218,
   "id": "239ac4ee",
   "metadata": {},
   "outputs": [],
   "source": [
    "if 13>25:\n",
    "    print(\"13 is greater\")\n"
   ]
  },
  {
   "cell_type": "code",
   "execution_count": 220,
   "id": "b102de9b",
   "metadata": {},
   "outputs": [
    {
     "name": "stdout",
     "output_type": "stream",
     "text": [
      "enter a number159\n",
      "The number a is not divisible by 25\n"
     ]
    }
   ],
   "source": [
    "a = int(input(\"enter a number\"))\n",
    "if a%25==0:\n",
    "    print(\"The number a is divisible by 25\")\n",
    "else:\n",
    "        print(\"The number a is not divisible by 25\")   "
   ]
  },
  {
   "cell_type": "code",
   "execution_count": 266,
   "id": "1893fb6e",
   "metadata": {},
   "outputs": [
    {
     "name": "stdout",
     "output_type": "stream",
     "text": [
      "202\n"
     ]
    }
   ],
   "source": [
    "a = 10\n",
    "b = 202\n",
    "c = 30\n",
    "\n",
    "if a>b and a>c:\n",
    "    print(a)\n",
    "elif b>a and b>c:\n",
    "    print(b)\n",
    "else:\n",
    "    print(c)\n",
    "    "
   ]
  },
  {
   "cell_type": "code",
   "execution_count": null,
   "id": "7d285255",
   "metadata": {},
   "outputs": [],
   "source": []
  },
  {
   "cell_type": "code",
   "execution_count": null,
   "id": "421af109",
   "metadata": {},
   "outputs": [],
   "source": []
  },
  {
   "cell_type": "code",
   "execution_count": null,
   "id": "655e34ff",
   "metadata": {},
   "outputs": [],
   "source": []
  },
  {
   "cell_type": "code",
   "execution_count": null,
   "id": "32015d6a",
   "metadata": {},
   "outputs": [],
   "source": []
  },
  {
   "cell_type": "code",
   "execution_count": null,
   "id": "202730ff",
   "metadata": {},
   "outputs": [],
   "source": []
  }
 ],
 "metadata": {
  "kernelspec": {
   "display_name": "Python 3 (ipykernel)",
   "language": "python",
   "name": "python3"
  },
  "language_info": {
   "codemirror_mode": {
    "name": "ipython",
    "version": 3
   },
   "file_extension": ".py",
   "mimetype": "text/x-python",
   "name": "python",
   "nbconvert_exporter": "python",
   "pygments_lexer": "ipython3",
   "version": "3.11.4"
  }
 },
 "nbformat": 4,
 "nbformat_minor": 5
}
