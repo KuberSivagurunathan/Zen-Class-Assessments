{
 "cells": [
  {
   "cell_type": "code",
   "execution_count": 1,
   "id": "14272cf2",
   "metadata": {},
   "outputs": [
    {
     "name": "stdout",
     "output_type": "stream",
     "text": [
      "x is less than y\n"
     ]
    }
   ],
   "source": [
    "#IF Statement\n",
    "#1\n",
    "x=20\n",
    "y=30\n",
    "if x<y:\n",
    "    print(\"x is less than y\")"
   ]
  },
  {
   "cell_type": "code",
   "execution_count": 3,
   "id": "dccab14e",
   "metadata": {},
   "outputs": [
    {
     "name": "stdout",
     "output_type": "stream",
     "text": [
      "140\n",
      "145\n",
      "an error or a warning message\n"
     ]
    }
   ],
   "source": [
    "#2\n",
    "theory = int(input())\n",
    "practical = int(input())\n",
    "total_score = theory + practical\n",
    "\n",
    "if total_score>200:\n",
    "    print(\"an error or a warning message\")"
   ]
  },
  {
   "cell_type": "code",
   "execution_count": 5,
   "id": "53f2212a",
   "metadata": {},
   "outputs": [
    {
     "name": "stdout",
     "output_type": "stream",
     "text": [
      "Yes\n",
      "Cleared the test\n"
     ]
    }
   ],
   "source": [
    "Subject = input()\n",
    "if Subject == 'Yes':\n",
    "    print(\"Cleared the test\")\n",
    "else:\n",
    "    print(\"Failed the test\")"
   ]
  },
  {
   "cell_type": "code",
   "execution_count": 8,
   "id": "1203505f",
   "metadata": {},
   "outputs": [
    {
     "name": "stdout",
     "output_type": "stream",
     "text": [
      "Enter the password: sdgfb\n",
      "Wrong Password\n"
     ]
    }
   ],
   "source": [
    "Password = input(\"Enter the password: \")\n",
    "if Password == 'Great':\n",
    "    print(\"Password Accepted\")\n",
    "else:\n",
    "    print(\"Wrong Password\")"
   ]
  },
  {
   "cell_type": "code",
   "execution_count": 20,
   "id": "1e8a957d",
   "metadata": {},
   "outputs": [
    {
     "name": "stdout",
     "output_type": "stream",
     "text": [
      "445\n",
      "Too old to work as per govt. regulations\n"
     ]
    }
   ],
   "source": [
    "Age = int(input())\n",
    "\n",
    "if Age<=18:\n",
    "    print(\"Minors who are not eligible to work\")\n",
    "elif 18<Age<60:\n",
    "        print(\"ELigible to work\")\n",
    "elif Age>=60:\n",
    "        print(\"Too old to work as per govt. regulations\")"
   ]
  },
  {
   "cell_type": "code",
   "execution_count": 25,
   "id": "b0c16109",
   "metadata": {},
   "outputs": [
    {
     "name": "stdout",
     "output_type": "stream",
     "text": [
      "8\n",
      "8\n",
      "7\n",
      "6\n",
      "5\n",
      "4\n",
      "3\n",
      "2\n",
      "1\n",
      "0\n"
     ]
    }
   ],
   "source": [
    "n = int(input())\n",
    "i = 0\n",
    "while i<=n:\n",
    "    print(n)\n",
    "    n-=1\n",
    "    \n",
    "    "
   ]
  },
  {
   "cell_type": "code",
   "execution_count": 42,
   "id": "aac4270f",
   "metadata": {},
   "outputs": [
    {
     "name": "stdout",
     "output_type": "stream",
     "text": [
      "10\n",
      "1\n",
      "4\n",
      "9\n",
      "16\n",
      "25\n",
      "36\n",
      "49\n",
      "64\n",
      "81\n",
      "100\n"
     ]
    }
   ],
   "source": [
    "n = int(input())\n",
    "i = 1\n",
    "while i<=n:\n",
    "    a = i*i\n",
    "    print(a)\n",
    "    i+=1\n",
    " "
   ]
  },
  {
   "cell_type": "code",
   "execution_count": 49,
   "id": "bb23ebd7",
   "metadata": {},
   "outputs": [
    {
     "name": "stdout",
     "output_type": "stream",
     "text": [
      "10\n",
      "10 x 1 = 10\n",
      "10 x 2 = 20\n",
      "10 x 3 = 30\n",
      "10 x 4 = 40\n",
      "10 x 5 = 50\n",
      "10 x 6 = 60\n",
      "10 x 7 = 70\n",
      "10 x 8 = 80\n",
      "10 x 9 = 90\n",
      "10 x 10 = 100\n"
     ]
    }
   ],
   "source": [
    "n = int(input())\n",
    "for i in range(1,n+1):\n",
    "    a = n*i\n",
    "    print(n,\"x\",i,\"=\",a)\n",
    "    "
   ]
  },
  {
   "cell_type": "code",
   "execution_count": 65,
   "id": "12954e4d",
   "metadata": {},
   "outputs": [
    {
     "name": "stdout",
     "output_type": "stream",
     "text": [
      "1\n",
      "4\n",
      "9\n",
      "16\n",
      "25\n",
      "36\n"
     ]
    }
   ],
   "source": [
    "numbers = [1, 2, 3, 4, 5, 6]\n",
    "square = []\n",
    "for i in numbers:\n",
    "    square = i*i\n",
    "    print(square)"
   ]
  },
  {
   "cell_type": "code",
   "execution_count": 72,
   "id": "2412ec4e",
   "metadata": {},
   "outputs": [
    {
     "name": "stdout",
     "output_type": "stream",
     "text": [
      "red\n",
      "black\n",
      "blue\n"
     ]
    }
   ],
   "source": [
    "list = ['red','black','blue']\n",
    "i = 0\n",
    "while i < len(list):\n",
    "    print(list[i])\n",
    "    i+=1\n"
   ]
  },
  {
   "cell_type": "code",
   "execution_count": 73,
   "id": "6eb3d1eb",
   "metadata": {},
   "outputs": [
    {
     "name": "stdout",
     "output_type": "stream",
     "text": [
      "red\n",
      "black\n",
      "blue\n"
     ]
    }
   ],
   "source": [
    "list = ['red','black','blue']\n",
    "for i in list:\n",
    "    print(i)"
   ]
  },
  {
   "cell_type": "code",
   "execution_count": null,
   "id": "4deebc39",
   "metadata": {},
   "outputs": [],
   "source": [
    "#LCM of two numbers"
   ]
  },
  {
   "cell_type": "code",
   "execution_count": null,
   "id": "62a935f2",
   "metadata": {},
   "outputs": [],
   "source": [
    "#sum of series: 1 + 1/2 + 1/3 + ….. + 1/N.\n"
   ]
  },
  {
   "cell_type": "code",
   "execution_count": 75,
   "id": "887a1220",
   "metadata": {},
   "outputs": [
    {
     "name": "stdout",
     "output_type": "stream",
     "text": [
      "[0, 1, 4, 9, 16, 25, 36, 49, 64, 81, 100]\n"
     ]
    }
   ],
   "source": [
    "list = []\n",
    "for i in range(0,11):\n",
    "    i = i*i\n",
    "    list.append(i)\n",
    "print(list)"
   ]
  },
  {
   "cell_type": "code",
   "execution_count": 76,
   "id": "9181dfb3",
   "metadata": {},
   "outputs": [
    {
     "name": "stdout",
     "output_type": "stream",
     "text": [
      "[0, 1, 4, 9, 16, 25, 36, 49, 64, 81, 100]\n"
     ]
    }
   ],
   "source": [
    "a = [x*x for x in range(0,11)]\n",
    "print(a)"
   ]
  },
  {
   "cell_type": "code",
   "execution_count": 83,
   "id": "04853e7f",
   "metadata": {},
   "outputs": [
    {
     "data": {
      "text/plain": [
       "['0', '1', '4', '9', '16', '25', '36', '49', '64', '81', '100']"
      ]
     },
     "execution_count": 83,
     "metadata": {},
     "output_type": "execute_result"
    }
   ],
   "source": [
    "list = [0, 1, 4, 9, 16, 25, 36, 49, 64, 81, 100]\n",
    "a = [str(x) for x in list]\n",
    "a"
   ]
  },
  {
   "cell_type": "code",
   "execution_count": 85,
   "id": "e093d245",
   "metadata": {},
   "outputs": [
    {
     "data": {
      "text/plain": [
       "[(0, 0),\n",
       " (1, 1),\n",
       " (4, 4),\n",
       " (9, 9),\n",
       " (16, 16),\n",
       " (25, 25),\n",
       " (36, 36),\n",
       " (49, 49),\n",
       " (64, 64),\n",
       " (81, 81),\n",
       " (100, 100)]"
      ]
     },
     "execution_count": 85,
     "metadata": {},
     "output_type": "execute_result"
    }
   ],
   "source": [
    "list1 = [0, 1, 4, 9, 16, 25, 36, 49, 64, 81, 100]\n",
    "list2 = [0, 1, 4, 9, 16, 25, 36, 49, 64, 81, 100]\n",
    "\n",
    "a = [(x,y) for x,y in zip(list1,list2)]\n",
    "a"
   ]
  },
  {
   "cell_type": "code",
   "execution_count": 87,
   "id": "7cf1f1a5",
   "metadata": {},
   "outputs": [
    {
     "data": {
      "text/plain": [
       "[(0, 'zero'), (1, 'one')]"
      ]
     },
     "execution_count": 87,
     "metadata": {},
     "output_type": "execute_result"
    }
   ],
   "source": [
    "list1 =[0,1] \n",
    "list2 =['zero','one']\n",
    "a = [(x,y) for x,y in zip(list1,list2)]\n",
    "a"
   ]
  },
  {
   "cell_type": "code",
   "execution_count": 88,
   "id": "bef9707f",
   "metadata": {},
   "outputs": [
    {
     "data": {
      "text/plain": [
       "[(0, 'zero'), (0, 'one'), (1, 'zero'), (1, 'one')]"
      ]
     },
     "execution_count": 88,
     "metadata": {},
     "output_type": "execute_result"
    }
   ],
   "source": [
    "list1 =[0,1] \n",
    "list2 =['zero','one']\n",
    "a = [(x,y) for x in list1 for y in list2]\n",
    "a"
   ]
  },
  {
   "cell_type": "code",
   "execution_count": 93,
   "id": "7127ddeb",
   "metadata": {},
   "outputs": [
    {
     "data": {
      "text/plain": [
       "[(0, 0),\n",
       " (1, 1),\n",
       " (2, 4),\n",
       " (3, 9),\n",
       " (4, 16),\n",
       " (5, 25),\n",
       " (6, 36),\n",
       " (7, 49),\n",
       " (8, 64),\n",
       " (9, 81),\n",
       " (10, 100)]"
      ]
     },
     "execution_count": 93,
     "metadata": {},
     "output_type": "execute_result"
    }
   ],
   "source": [
    "list1 = [0, 1, 4, 9, 16, 25, 36, 49, 64, 81, 100]\n",
    "a = [(i,j) for i,j in enumerate(list1)]\n",
    "a"
   ]
  },
  {
   "cell_type": "code",
   "execution_count": null,
   "id": "51627472",
   "metadata": {},
   "outputs": [],
   "source": []
  }
 ],
 "metadata": {
  "kernelspec": {
   "display_name": "Python 3 (ipykernel)",
   "language": "python",
   "name": "python3"
  },
  "language_info": {
   "codemirror_mode": {
    "name": "ipython",
    "version": 3
   },
   "file_extension": ".py",
   "mimetype": "text/x-python",
   "name": "python",
   "nbconvert_exporter": "python",
   "pygments_lexer": "ipython3",
   "version": "3.11.4"
  }
 },
 "nbformat": 4,
 "nbformat_minor": 5
}
